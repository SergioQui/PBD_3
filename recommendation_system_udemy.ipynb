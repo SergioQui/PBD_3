{
 "cells": [
  {
   "cell_type": "code",
   "execution_count": 19,
   "metadata": {},
   "outputs": [],
   "source": [
    "import pandas as pd\n",
    "from sklearn.compose import ColumnTransformer\n",
    "from sklearn.preprocessing import OneHotEncoder, StandardScaler\n",
    "from sklearn.pipeline import Pipeline\n",
    "from sklearn.neighbors import NearestNeighbors"
   ]
  },
  {
   "cell_type": "code",
   "execution_count": 20,
   "metadata": {},
   "outputs": [],
   "source": [
    "# importar datos\n",
    "# comments = pd.read_csv('Comments.csv')\n",
    "courses = pd.read_csv('Course_info.csv')"
   ]
  },
  {
   "cell_type": "code",
   "execution_count": 21,
   "metadata": {},
   "outputs": [],
   "source": [
    "# se eliminan las columnas que no interesan\n",
    "# comments_filtered= comments.drop(labels=['date', 'display_name', 'comment'], axis=1)\n",
    "column_keep = ['category', 'subcategory','instructor_name']\n",
    "column_delete = []\n",
    "for column in courses.columns:\n",
    "    if column not in column_keep:\n",
    "        column_delete.append(column)\n",
    "courses_filtered = courses.drop(labels=column_delete, axis=1)"
   ]
  },
  {
   "cell_type": "code",
   "execution_count": 22,
   "metadata": {},
   "outputs": [
    {
     "name": "stdout",
     "output_type": "stream",
     "text": [
      "category           0\n",
      "subcategory        0\n",
      "instructor_name    5\n",
      "dtype: int64\n"
     ]
    }
   ],
   "source": [
    "# comprueba la cantidad de valores nulos\n",
    "print(courses_filtered.isnull().sum())\n",
    "# crea una lista vacia para las columna con valores nulos\n",
    "column_dropna=[]\n",
    "# itera a traves de un dict nom_colum:cant_nulos y guarda el nombre de la columa si tiene nulos\n",
    "for key, value in courses_filtered.isnull().sum().to_dict().items():\n",
    "    if value !=0: \n",
    "        column_dropna.append(key)\n",
    "# elina las filas que contienen nulos \n",
    "courses_filtered.dropna(axis= 0, how='any', subset=column_dropna, inplace= True)"
   ]
  },
  {
   "cell_type": "code",
   "execution_count": 23,
   "metadata": {},
   "outputs": [],
   "source": [
    "# pipeline para variables numericas\n",
    "# numeric_pipe = Pipeline([\n",
    "#     ('scaler', StandardScaler())\n",
    "#     ])\n",
    "\n",
    "# pipeline para variables categoricas\n",
    "categorical_pipe = Pipeline([\n",
    "    ('encoder', OneHotEncoder(drop = 'first'))\n",
    "    ])\n",
    "\n",
    "# contiene las transformaciones\n",
    "col_transf = ColumnTransformer(transformers=[\n",
    "    #('numeric', numeric_pipe, courses_filtered._get_numeric_data().columns.tolist()),\n",
    "    ('categoric', categorical_pipe, courses_filtered.select_dtypes('object').columns.tolist())\n",
    "    ])\n",
    "\n",
    "col_transf_fit = col_transf.fit(courses_filtered)\n",
    "courses_filtered_transf = col_transf_fit.transform(courses_filtered)\n",
    "\n",
    "nneighbors = NearestNeighbors(n_neighbors = 5, metric = 'cosine').fit(courses_filtered_transf)\n",
    "# recomendaciones para las 10 primeras posiciones\n",
    "ind = nneighbors.kneighbors(courses_filtered_transf[:10], return_distance=False)"
   ]
  },
  {
   "cell_type": "code",
   "execution_count": 24,
   "metadata": {},
   "outputs": [
    {
     "name": "stdout",
     "output_type": "stream",
     "text": [
      "Curso visto\n",
      "--------------------------------------------------------------------------------\n",
      "category                 Lifestyle\n",
      "subcategory        Food & Beverage\n",
      "instructor_name        Angela Poch\n",
      "Name: 431, dtype: object\n",
      "\n",
      "Cursos recomendados\n",
      "--------------------------------------------------------------------------------\n"
     ]
    },
    {
     "data": {
      "text/html": [
       "<div>\n",
       "<style scoped>\n",
       "    .dataframe tbody tr th:only-of-type {\n",
       "        vertical-align: middle;\n",
       "    }\n",
       "\n",
       "    .dataframe tbody tr th {\n",
       "        vertical-align: top;\n",
       "    }\n",
       "\n",
       "    .dataframe thead th {\n",
       "        text-align: right;\n",
       "    }\n",
       "</style>\n",
       "<table border=\"1\" class=\"dataframe\">\n",
       "  <thead>\n",
       "    <tr style=\"text-align: right;\">\n",
       "      <th></th>\n",
       "      <th>category</th>\n",
       "      <th>subcategory</th>\n",
       "      <th>instructor_name</th>\n",
       "    </tr>\n",
       "  </thead>\n",
       "  <tbody>\n",
       "    <tr>\n",
       "      <th>431</th>\n",
       "      <td>Lifestyle</td>\n",
       "      <td>Food &amp; Beverage</td>\n",
       "      <td>Angela Poch</td>\n",
       "    </tr>\n",
       "    <tr>\n",
       "      <th>129102</th>\n",
       "      <td>Design</td>\n",
       "      <td>Architectural Design</td>\n",
       "      <td>D5 Render Team</td>\n",
       "    </tr>\n",
       "    <tr>\n",
       "      <th>131379</th>\n",
       "      <td>IT &amp; Software</td>\n",
       "      <td>Other IT &amp; Software</td>\n",
       "      <td>Conecta, que eu te ensino!</td>\n",
       "    </tr>\n",
       "    <tr>\n",
       "      <th>158163</th>\n",
       "      <td>IT &amp; Software</td>\n",
       "      <td>IT Certifications</td>\n",
       "      <td>Rifat Academy</td>\n",
       "    </tr>\n",
       "  </tbody>\n",
       "</table>\n",
       "</div>"
      ],
      "text/plain": [
       "             category           subcategory             instructor_name\n",
       "431         Lifestyle       Food & Beverage                 Angela Poch\n",
       "129102         Design  Architectural Design              D5 Render Team\n",
       "131379  IT & Software   Other IT & Software  Conecta, que eu te ensino!\n",
       "158163  IT & Software     IT Certifications               Rifat Academy"
      ]
     },
     "execution_count": 24,
     "metadata": {},
     "output_type": "execute_result"
    }
   ],
   "source": [
    "#ejemplo de recomendacion\n",
    "print(\"Curso visto\")\n",
    "print(\"-\"*80)\n",
    "print(courses_filtered.loc[ind[0][1], :])\n",
    "print()\n",
    "print(\"Cursos recomendados\")\n",
    "print(\"-\"*80)\n",
    "courses_filtered.loc[ind[0][1:], :]"
   ]
  },
  {
   "cell_type": "code",
   "execution_count": null,
   "metadata": {},
   "outputs": [],
   "source": [
    "#todo: unir courses id y title con los resultados del modelo"
   ]
  },
  {
   "cell_type": "code",
   "execution_count": 39,
   "metadata": {},
   "outputs": [
    {
     "data": {
      "text/html": [
       "<div>\n",
       "<style scoped>\n",
       "    .dataframe tbody tr th:only-of-type {\n",
       "        vertical-align: middle;\n",
       "    }\n",
       "\n",
       "    .dataframe tbody tr th {\n",
       "        vertical-align: top;\n",
       "    }\n",
       "\n",
       "    .dataframe thead th {\n",
       "        text-align: right;\n",
       "    }\n",
       "</style>\n",
       "<table border=\"1\" class=\"dataframe\">\n",
       "  <thead>\n",
       "    <tr style=\"text-align: right;\">\n",
       "      <th></th>\n",
       "      <th>category</th>\n",
       "      <th>subcategory</th>\n",
       "      <th>instructor_name</th>\n",
       "    </tr>\n",
       "  </thead>\n",
       "  <tbody>\n",
       "    <tr>\n",
       "      <th>431</th>\n",
       "      <td>Lifestyle</td>\n",
       "      <td>Food &amp; Beverage</td>\n",
       "      <td>Angela Poch</td>\n",
       "    </tr>\n",
       "    <tr>\n",
       "      <th>129102</th>\n",
       "      <td>Design</td>\n",
       "      <td>Architectural Design</td>\n",
       "      <td>D5 Render Team</td>\n",
       "    </tr>\n",
       "    <tr>\n",
       "      <th>131379</th>\n",
       "      <td>IT &amp; Software</td>\n",
       "      <td>Other IT &amp; Software</td>\n",
       "      <td>Conecta, que eu te ensino!</td>\n",
       "    </tr>\n",
       "    <tr>\n",
       "      <th>158163</th>\n",
       "      <td>IT &amp; Software</td>\n",
       "      <td>IT Certifications</td>\n",
       "      <td>Rifat Academy</td>\n",
       "    </tr>\n",
       "  </tbody>\n",
       "</table>\n",
       "</div>"
      ],
      "text/plain": [
       "             category           subcategory             instructor_name\n",
       "431         Lifestyle       Food & Beverage                 Angela Poch\n",
       "129102         Design  Architectural Design              D5 Render Team\n",
       "131379  IT & Software   Other IT & Software  Conecta, que eu te ensino!\n",
       "158163  IT & Software     IT Certifications               Rifat Academy"
      ]
     },
     "execution_count": 39,
     "metadata": {},
     "output_type": "execute_result"
    }
   ],
   "source": [
    "courses_filtered.loc[ind[0][1:], :]"
   ]
  },
  {
   "cell_type": "code",
   "execution_count": 26,
   "metadata": {},
   "outputs": [
    {
     "data": {
      "text/plain": [
       "id                                     26438.0\n",
       "title    Happy Vegetarian Kids Cooking Healthy\n",
       "Name: 431, dtype: object"
      ]
     },
     "execution_count": 26,
     "metadata": {},
     "output_type": "execute_result"
    }
   ],
   "source": [
    "courses[['id', 'title']].iloc[431]"
   ]
  },
  {
   "cell_type": "code",
   "execution_count": null,
   "metadata": {},
   "outputs": [],
   "source": []
  }
 ],
 "metadata": {
  "kernelspec": {
   "display_name": "Python 3",
   "language": "python",
   "name": "python3"
  },
  "language_info": {
   "codemirror_mode": {
    "name": "ipython",
    "version": 3
   },
   "file_extension": ".py",
   "mimetype": "text/x-python",
   "name": "python",
   "nbconvert_exporter": "python",
   "pygments_lexer": "ipython3",
   "version": "3.11.3"
  },
  "orig_nbformat": 4
 },
 "nbformat": 4,
 "nbformat_minor": 2
}
