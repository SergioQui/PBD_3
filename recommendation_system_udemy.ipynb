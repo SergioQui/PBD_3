{
 "cells": [
  {
   "cell_type": "code",
   "execution_count": 84,
   "metadata": {},
   "outputs": [],
   "source": [
    "import pandas as pd\n",
    "import numpy as np\n",
    "from sklearn.compose import ColumnTransformer\n",
    "from sklearn.preprocessing import OneHotEncoder, StandardScaler\n",
    "from sklearn.pipeline import Pipeline\n",
    "from sklearn.neighbors import NearestNeighbors"
   ]
  },
  {
   "cell_type": "code",
   "execution_count": 85,
   "metadata": {},
   "outputs": [],
   "source": [
    "# importar datos\n",
    "# comments = pd.read_csv('Comments.csv')\n",
    "courses = pd.read_csv('C:/Users/G/Documents/GitHub/recommendation_system/Course_info.csv')"
   ]
  },
  {
   "cell_type": "code",
   "execution_count": 87,
   "metadata": {},
   "outputs": [],
   "source": [
    "# se eliminan las columnas que no interesan\n",
    "# comments_filtered= comments.drop(labels=['date', 'display_name', 'comment'], axis=1)\n",
    "column_keep = ['category', 'subcategory','instructor_name', 'is_paid', 'price']\n",
    "column_delete = []\n",
    "for column in courses.columns:\n",
    "    if column not in column_keep:\n",
    "        column_delete.append(column)\n",
    "courses_filtered = courses.drop(labels=column_delete, axis=1)"
   ]
  },
  {
   "cell_type": "code",
   "execution_count": 81,
   "metadata": {},
   "outputs": [
    {
     "data": {
      "text/plain": [
       "Index(['id', 'title', 'is_paid', 'price', 'headline', 'num_subscribers',\n",
       "       'avg_rating', 'num_reviews', 'num_comments', 'num_lectures',\n",
       "       'content_length_min', 'published_time', 'last_update_date', 'category',\n",
       "       'subcategory', 'topic', 'language', 'course_url', 'instructor_name',\n",
       "       'instructor_url'],\n",
       "      dtype='object')"
      ]
     },
     "execution_count": 81,
     "metadata": {},
     "output_type": "execute_result"
    }
   ],
   "source": [
    "courses.columns"
   ]
  },
  {
   "cell_type": "code",
   "execution_count": 88,
   "metadata": {},
   "outputs": [
    {
     "name": "stdout",
     "output_type": "stream",
     "text": [
      "is_paid            0\n",
      "price              0\n",
      "category           0\n",
      "subcategory        0\n",
      "instructor_name    5\n",
      "dtype: int64\n"
     ]
    }
   ],
   "source": [
    "# comprueba la cantidad de valores nulos\n",
    "print(courses_filtered.isnull().sum())\n",
    "# crea una lista vacia para las columna con valores nulos\n",
    "column_dropna=[]\n",
    "# itera a traves de un dict nom_colum:cant_nulos y guarda el nombre de la columa si tiene nulos\n",
    "for key, value in courses_filtered.isnull().sum().to_dict().items():\n",
    "    if value !=0: \n",
    "        column_dropna.append(key)\n",
    "# elina las filas que contienen nulos \n",
    "courses_filtered.dropna(axis= 0, how='any', subset=column_dropna, inplace= True)"
   ]
  },
  {
   "cell_type": "code",
   "execution_count": 90,
   "metadata": {},
   "outputs": [],
   "source": [
    "# pipeline para variables numericas\n",
    "numeric_pipe = Pipeline([\n",
    "    ('scaler', StandardScaler())\n",
    "    ])\n",
    "\n",
    "# pipeline para variables categoricas\n",
    "categorical_pipe = Pipeline([\n",
    "    ('encoder', OneHotEncoder(drop = 'first'))\n",
    "    ])\n",
    "\n",
    "# contiene las transformaciones\n",
    "col_transf = ColumnTransformer(transformers=[\n",
    "    #('numeric', numeric_pipe, courses_filtered._get_numeric_data().columns.tolist()),\n",
    "    ('categoric', categorical_pipe, courses_filtered.select_dtypes('object').columns.tolist())\n",
    "    ])\n",
    "\n",
    "col_transf_fit = col_transf.fit(courses_filtered)\n",
    "courses_filtered_transf = col_transf_fit.transform(courses_filtered)\n",
    "\n",
    "nneighbors = NearestNeighbors(n_neighbors = 10, metric = 'cosine').fit(courses_filtered_transf)\n",
    "# recomendaciones para las 10 primeras posiciones\n",
    "ind = nneighbors.kneighbors(courses_filtered_transf[:100], return_distance=False)"
   ]
  },
  {
   "cell_type": "code",
   "execution_count": 100,
   "metadata": {},
   "outputs": [
    {
     "name": "stdout",
     "output_type": "stream",
     "text": [
      "Curso visto\n",
      "--------------------------------------------------------------------------------\n",
      "id                                                              26438.0\n",
      "title                             Happy Vegetarian Kids Cooking Healthy\n",
      "is_paid                                                            True\n",
      "price                                                             49.99\n",
      "headline              Children learn how to be healthy and cook some...\n",
      "num_subscribers                                                   196.0\n",
      "avg_rating                                                         3.95\n",
      "num_reviews                                                        19.0\n",
      "num_comments                                                        6.0\n",
      "num_lectures                                                       21.0\n",
      "content_length_min                                                216.0\n",
      "published_time                                     2012-10-11T13:22:39Z\n",
      "last_update_date                                             2019-10-09\n",
      "category                                                      Lifestyle\n",
      "subcategory                                             Food & Beverage\n",
      "topic                                                           Cooking\n",
      "language                                                        English\n",
      "course_url                   /course/happy-kids-cooking-healthy-part-1/\n",
      "instructor_name                                             Angela Poch\n",
      "instructor_url                                        /user/angelapoch/\n",
      "Name: 431, dtype: object\n",
      "\n",
      "Cursos recomendados\n",
      "--------------------------------------------------------------------------------\n"
     ]
    },
    {
     "data": {
      "text/html": [
       "<div>\n",
       "<style scoped>\n",
       "    .dataframe tbody tr th:only-of-type {\n",
       "        vertical-align: middle;\n",
       "    }\n",
       "\n",
       "    .dataframe tbody tr th {\n",
       "        vertical-align: top;\n",
       "    }\n",
       "\n",
       "    .dataframe thead th {\n",
       "        text-align: right;\n",
       "    }\n",
       "</style>\n",
       "<table border=\"1\" class=\"dataframe\">\n",
       "  <thead>\n",
       "    <tr style=\"text-align: right;\">\n",
       "      <th></th>\n",
       "      <th>id</th>\n",
       "      <th>title</th>\n",
       "      <th>is_paid</th>\n",
       "      <th>price</th>\n",
       "      <th>category</th>\n",
       "      <th>subcategory</th>\n",
       "      <th>topic</th>\n",
       "      <th>language</th>\n",
       "      <th>course_url</th>\n",
       "      <th>instructor_name</th>\n",
       "    </tr>\n",
       "  </thead>\n",
       "  <tbody>\n",
       "    <tr>\n",
       "      <th>431</th>\n",
       "      <td>26438.0</td>\n",
       "      <td>Happy Vegetarian Kids Cooking Healthy</td>\n",
       "      <td>True</td>\n",
       "      <td>49.99</td>\n",
       "      <td>Lifestyle</td>\n",
       "      <td>Food &amp; Beverage</td>\n",
       "      <td>Cooking</td>\n",
       "      <td>English</td>\n",
       "      <td>/course/happy-kids-cooking-healthy-part-1/</td>\n",
       "      <td>Angela Poch</td>\n",
       "    </tr>\n",
       "    <tr>\n",
       "      <th>129102</th>\n",
       "      <td>3748394.0</td>\n",
       "      <td>Pelajari D5 Render dalam Bahasa Indonesia</td>\n",
       "      <td>False</td>\n",
       "      <td>0.00</td>\n",
       "      <td>Design</td>\n",
       "      <td>Architectural Design</td>\n",
       "      <td>Photorealistic Rendering</td>\n",
       "      <td>Indonesian</td>\n",
       "      <td>/course/learn-d5-render-in-bahasa-indonesia/</td>\n",
       "      <td>D5 Render Team</td>\n",
       "    </tr>\n",
       "    <tr>\n",
       "      <th>158163</th>\n",
       "      <td>4202238.0</td>\n",
       "      <td>350-401 ~ CCNP Enterprise ENCOR Core Practice ...</td>\n",
       "      <td>True</td>\n",
       "      <td>19.99</td>\n",
       "      <td>IT &amp; Software</td>\n",
       "      <td>IT Certifications</td>\n",
       "      <td>CCNP Enterprise</td>\n",
       "      <td>English</td>\n",
       "      <td>/course/cisco-enterprise-network-and-core-tech...</td>\n",
       "      <td>Rifat Academy</td>\n",
       "    </tr>\n",
       "    <tr>\n",
       "      <th>131379</th>\n",
       "      <td>3786138.0</td>\n",
       "      <td>Curso de GNU Octave - Nível Intermediário</td>\n",
       "      <td>True</td>\n",
       "      <td>79.90</td>\n",
       "      <td>IT &amp; Software</td>\n",
       "      <td>Other IT &amp; Software</td>\n",
       "      <td>GNU</td>\n",
       "      <td>Portuguese</td>\n",
       "      <td>/course/curso-de-octave-intermediario/</td>\n",
       "      <td>Conecta, que eu te ensino!</td>\n",
       "    </tr>\n",
       "    <tr>\n",
       "      <th>38130</th>\n",
       "      <td>1539176.0</td>\n",
       "      <td>React Fiber v16 Essentials</td>\n",
       "      <td>True</td>\n",
       "      <td>49.99</td>\n",
       "      <td>Development</td>\n",
       "      <td>Web Development</td>\n",
       "      <td>React JS</td>\n",
       "      <td>English</td>\n",
       "      <td>/course/react-fiber-v16-essentials/</td>\n",
       "      <td>Guy Ziv</td>\n",
       "    </tr>\n",
       "  </tbody>\n",
       "</table>\n",
       "</div>"
      ],
      "text/plain": [
       "               id                                              title  is_paid   \n",
       "431       26438.0              Happy Vegetarian Kids Cooking Healthy     True  \\\n",
       "129102  3748394.0          Pelajari D5 Render dalam Bahasa Indonesia    False   \n",
       "158163  4202238.0  350-401 ~ CCNP Enterprise ENCOR Core Practice ...     True   \n",
       "131379  3786138.0          Curso de GNU Octave - Nível Intermediário     True   \n",
       "38130   1539176.0                         React Fiber v16 Essentials     True   \n",
       "\n",
       "        price       category           subcategory                     topic   \n",
       "431     49.99      Lifestyle       Food & Beverage                   Cooking  \\\n",
       "129102   0.00         Design  Architectural Design  Photorealistic Rendering   \n",
       "158163  19.99  IT & Software     IT Certifications           CCNP Enterprise   \n",
       "131379  79.90  IT & Software   Other IT & Software                       GNU   \n",
       "38130   49.99    Development       Web Development                  React JS   \n",
       "\n",
       "          language                                         course_url   \n",
       "431        English         /course/happy-kids-cooking-healthy-part-1/  \\\n",
       "129102  Indonesian       /course/learn-d5-render-in-bahasa-indonesia/   \n",
       "158163     English  /course/cisco-enterprise-network-and-core-tech...   \n",
       "131379  Portuguese             /course/curso-de-octave-intermediario/   \n",
       "38130      English                /course/react-fiber-v16-essentials/   \n",
       "\n",
       "                   instructor_name  \n",
       "431                    Angela Poch  \n",
       "129102              D5 Render Team  \n",
       "158163               Rifat Academy  \n",
       "131379  Conecta, que eu te ensino!  \n",
       "38130                      Guy Ziv  "
      ]
     },
     "execution_count": 100,
     "metadata": {},
     "output_type": "execute_result"
    }
   ],
   "source": [
    "#ejemplo de recomendacion\n",
    "print(\"Curso visto\")\n",
    "print(\"-\"*80)\n",
    "print(courses.loc[ind[0][1], :])\n",
    "print()\n",
    "print(\"Cursos recomendados\")\n",
    "print(\"-\"*80)\n",
    "courses_reco = courses_filtered.loc[ind[0][1:], :].join(courses, how='inner', lsuffix='_filtered')\n",
    "column_keep = ['id', 'title', 'category', 'subcategory', \n",
    "               'instructor_name', 'is_paid', 'price', 'topic', \n",
    "               'language', 'course_url']\n",
    "column_delete = []\n",
    "for column in courses_reco:\n",
    "    if column not in column_keep:\n",
    "        column_delete.append(column)\n",
    "courses_reco.drop(column_delete, axis=1, inplace=True)\n",
    "courses_reco.head()"
   ]
  }
 ],
 "metadata": {
  "kernelspec": {
   "display_name": "Python 3",
   "language": "python",
   "name": "python3"
  },
  "language_info": {
   "codemirror_mode": {
    "name": "ipython",
    "version": 3
   },
   "file_extension": ".py",
   "mimetype": "text/x-python",
   "name": "python",
   "nbconvert_exporter": "python",
   "pygments_lexer": "ipython3",
   "version": "3.11.3"
  },
  "orig_nbformat": 4
 },
 "nbformat": 4,
 "nbformat_minor": 2
}
