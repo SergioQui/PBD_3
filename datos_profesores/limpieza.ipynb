{
 "cells": [
  {
   "cell_type": "code",
   "execution_count": 55,
   "metadata": {},
   "outputs": [],
   "source": [
    "import pandas as pd"
   ]
  },
  {
   "cell_type": "code",
   "execution_count": 56,
   "metadata": {},
   "outputs": [
    {
     "data": {
      "text/plain": [
       "'TODO: pasar ID a int\\neliminar hora de inicio y hora de finalización\\npasar todo a minusculas\\nelinimar nombre y renombrar nombre2 a nombre\\neliminar acreditado y preguntad\\ncrear una columna para cada acreditación'"
      ]
     },
     "execution_count": 56,
     "metadata": {},
     "output_type": "execute_result"
    }
   ],
   "source": [
    "\n",
    "\"\"\"TODO: pasar ID a int\n",
    "eliminar hora de inicio y hora de finalización\n",
    "pasar todo a minusculas\n",
    "elinimar nombre y renombrar nombre2 a nombre\n",
    "eliminar acreditado y preguntad\n",
    "crear una columna para cada acreditación\"\"\""
   ]
  },
  {
   "cell_type": "code",
   "execution_count": 57,
   "metadata": {},
   "outputs": [
    {
     "data": {
      "text/html": [
       "<div>\n",
       "<style scoped>\n",
       "    .dataframe tbody tr th:only-of-type {\n",
       "        vertical-align: middle;\n",
       "    }\n",
       "\n",
       "    .dataframe tbody tr th {\n",
       "        vertical-align: top;\n",
       "    }\n",
       "\n",
       "    .dataframe thead th {\n",
       "        text-align: right;\n",
       "    }\n",
       "</style>\n",
       "<table border=\"1\" class=\"dataframe\">\n",
       "  <thead>\n",
       "    <tr style=\"text-align: right;\">\n",
       "      <th></th>\n",
       "      <th>ID</th>\n",
       "      <th>Hora de inicio</th>\n",
       "      <th>Hora de finalización</th>\n",
       "      <th>Correo electrónico</th>\n",
       "      <th>Nombre</th>\n",
       "      <th>Nombre2</th>\n",
       "      <th>Apellidos</th>\n",
       "      <th>Breve CV</th>\n",
       "      <th>Palabras clave sobre las áreas de experiencia y líneas de investigación</th>\n",
       "      <th>Foto actual</th>\n",
       "      <th>Doctor</th>\n",
       "      <th>Doctorado</th>\n",
       "      <th>Acreditado</th>\n",
       "      <th>Pregunta</th>\n",
       "    </tr>\n",
       "  </thead>\n",
       "  <tbody>\n",
       "    <tr>\n",
       "      <th>0</th>\n",
       "      <td>12.0</td>\n",
       "      <td>2021-12-06 09:53:31</td>\n",
       "      <td>2021-12-06 09:57:00</td>\n",
       "      <td>silvia.abad@universidadeuropea.es</td>\n",
       "      <td>SILVIA ABAD VALTIERRA</td>\n",
       "      <td>Silvia</td>\n",
       "      <td>Abad Valtierra</td>\n",
       "      <td>Doctora Ingeniero de telecomunicación y profes...</td>\n",
       "      <td>Comunicaciones ópticas. Instrumentación fotóni...</td>\n",
       "      <td>https://univeuropeaes.sharepoint.com/sites/Dep...</td>\n",
       "      <td>NaN</td>\n",
       "      <td>Si</td>\n",
       "      <td>Profesor contratado doctor;Profesor de univers...</td>\n",
       "      <td>NaN</td>\n",
       "    </tr>\n",
       "    <tr>\n",
       "      <th>1</th>\n",
       "      <td>55.0</td>\n",
       "      <td>2022-03-01 10:02:18</td>\n",
       "      <td>2022-03-01 10:12:10</td>\n",
       "      <td>anas.ahachad@universidadeuropea.es</td>\n",
       "      <td>ANAS AHACHAD</td>\n",
       "      <td>ANAS</td>\n",
       "      <td>AHACHAD</td>\n",
       "      <td>Ingeniero de Informática por la Universidad Ab...</td>\n",
       "      <td>Inteligencia Artificial, Machine Learning, Big...</td>\n",
       "      <td>https://univeuropeaes.sharepoint.com/sites/Dep...</td>\n",
       "      <td>NaN</td>\n",
       "      <td>Si</td>\n",
       "      <td>Profesor contratado doctor;</td>\n",
       "      <td>NaN</td>\n",
       "    </tr>\n",
       "    <tr>\n",
       "      <th>2</th>\n",
       "      <td>13.0</td>\n",
       "      <td>2021-12-08 12:20:09</td>\n",
       "      <td>2021-12-08 12:32:42</td>\n",
       "      <td>josealberto.aijon@universidadeuropea.es</td>\n",
       "      <td>JOSE ALBERTO AIJON JIMENEZ</td>\n",
       "      <td>José Alberto</td>\n",
       "      <td>Aijón Jiménez</td>\n",
       "      <td>2011-Actualidad: UNIVERSIDAD EUROPEA DE MADRID...</td>\n",
       "      <td>física, cálculo (I y II), álgebra, estadística...</td>\n",
       "      <td>https://univeuropeaes.sharepoint.com/sites/Dep...</td>\n",
       "      <td>NaN</td>\n",
       "      <td>No</td>\n",
       "      <td>NaN</td>\n",
       "      <td>NaN</td>\n",
       "    </tr>\n",
       "    <tr>\n",
       "      <th>3</th>\n",
       "      <td>33.0</td>\n",
       "      <td>2022-01-09 17:38:38</td>\n",
       "      <td>2022-01-09 17:39:05</td>\n",
       "      <td>fernando.aparicio@universidadeuropea.es</td>\n",
       "      <td>FERNANDO APARICIO GALISTEO</td>\n",
       "      <td>Fernando</td>\n",
       "      <td>Aparicio Galisteo</td>\n",
       "      <td>Desde el año 2000, he ejercido mi actividad pr...</td>\n",
       "      <td>Inteligencia Artificial, Minería de texto, Min...</td>\n",
       "      <td>https://univeuropeaes.sharepoint.com/sites/Dep...</td>\n",
       "      <td>NaN</td>\n",
       "      <td>Si</td>\n",
       "      <td>Profesor ayudante doctor;</td>\n",
       "      <td>NaN</td>\n",
       "    </tr>\n",
       "    <tr>\n",
       "      <th>4</th>\n",
       "      <td>7.0</td>\n",
       "      <td>2021-11-28 05:40:07</td>\n",
       "      <td>2021-11-28 06:01:54</td>\n",
       "      <td>MIGUEL.APARICIO@universidadeuropea.es</td>\n",
       "      <td>MIGUEL APARICIO RESCO</td>\n",
       "      <td>Miguel</td>\n",
       "      <td>Aparicio Resco</td>\n",
       "      <td>Físico teórico especializado en el análisis de...</td>\n",
       "      <td>Física teórica, Relatividad General, Cosmologí...</td>\n",
       "      <td>https://univeuropeaes.sharepoint.com/sites/Dep...</td>\n",
       "      <td>NaN</td>\n",
       "      <td>Si</td>\n",
       "      <td>Profesor ayudante doctor;</td>\n",
       "      <td>NaN</td>\n",
       "    </tr>\n",
       "  </tbody>\n",
       "</table>\n",
       "</div>"
      ],
      "text/plain": [
       "     ID      Hora de inicio Hora de finalización  \\\n",
       "0  12.0 2021-12-06 09:53:31  2021-12-06 09:57:00   \n",
       "1  55.0 2022-03-01 10:02:18  2022-03-01 10:12:10   \n",
       "2  13.0 2021-12-08 12:20:09  2021-12-08 12:32:42   \n",
       "3  33.0 2022-01-09 17:38:38  2022-01-09 17:39:05   \n",
       "4   7.0 2021-11-28 05:40:07  2021-11-28 06:01:54   \n",
       "\n",
       "                        Correo electrónico                      Nombre  \\\n",
       "0        silvia.abad@universidadeuropea.es       SILVIA ABAD VALTIERRA   \n",
       "1       anas.ahachad@universidadeuropea.es                ANAS AHACHAD   \n",
       "2  josealberto.aijon@universidadeuropea.es  JOSE ALBERTO AIJON JIMENEZ   \n",
       "3  fernando.aparicio@universidadeuropea.es  FERNANDO APARICIO GALISTEO   \n",
       "4    MIGUEL.APARICIO@universidadeuropea.es       MIGUEL APARICIO RESCO   \n",
       "\n",
       "         Nombre2          Apellidos  \\\n",
       "0        Silvia      Abad Valtierra   \n",
       "1           ANAS            AHACHAD   \n",
       "2  José Alberto       Aijón Jiménez   \n",
       "3       Fernando  Aparicio Galisteo   \n",
       "4         Miguel     Aparicio Resco   \n",
       "\n",
       "                                            Breve CV  \\\n",
       "0  Doctora Ingeniero de telecomunicación y profes...   \n",
       "1  Ingeniero de Informática por la Universidad Ab...   \n",
       "2  2011-Actualidad: UNIVERSIDAD EUROPEA DE MADRID...   \n",
       "3  Desde el año 2000, he ejercido mi actividad pr...   \n",
       "4  Físico teórico especializado en el análisis de...   \n",
       "\n",
       "  Palabras clave sobre las áreas de experiencia y líneas de investigación  \\\n",
       "0  Comunicaciones ópticas. Instrumentación fotóni...                        \n",
       "1  Inteligencia Artificial, Machine Learning, Big...                        \n",
       "2  física, cálculo (I y II), álgebra, estadística...                        \n",
       "3  Inteligencia Artificial, Minería de texto, Min...                        \n",
       "4  Física teórica, Relatividad General, Cosmologí...                        \n",
       "\n",
       "                                         Foto actual  Doctor Doctorado  \\\n",
       "0  https://univeuropeaes.sharepoint.com/sites/Dep...     NaN        Si   \n",
       "1  https://univeuropeaes.sharepoint.com/sites/Dep...     NaN        Si   \n",
       "2  https://univeuropeaes.sharepoint.com/sites/Dep...     NaN        No   \n",
       "3  https://univeuropeaes.sharepoint.com/sites/Dep...     NaN        Si   \n",
       "4  https://univeuropeaes.sharepoint.com/sites/Dep...     NaN        Si   \n",
       "\n",
       "                                          Acreditado  Pregunta  \n",
       "0  Profesor contratado doctor;Profesor de univers...       NaN  \n",
       "1                        Profesor contratado doctor;       NaN  \n",
       "2                                                NaN       NaN  \n",
       "3                          Profesor ayudante doctor;       NaN  \n",
       "4                          Profesor ayudante doctor;       NaN  "
      ]
     },
     "execution_count": 57,
     "metadata": {},
     "output_type": "execute_result"
    }
   ],
   "source": [
    "data = pd.read_excel('CV CCT.xlsx')\n",
    "data.head()"
   ]
  },
  {
   "cell_type": "code",
   "execution_count": 60,
   "metadata": {},
   "outputs": [
    {
     "data": {
      "text/plain": [
       "ID                      float64\n",
       "Correo electrónico       object\n",
       "Nombre                   string\n",
       "Apellidos                object\n",
       "Breve CV                 object\n",
       "Areas de experiencia     object\n",
       "Foto actual              object\n",
       "Doctorado                object\n",
       "Acreditado               object\n",
       "dtype: object"
      ]
     },
     "execution_count": 60,
     "metadata": {},
     "output_type": "execute_result"
    }
   ],
   "source": [
    "\n",
    "#*Lee los datos como objeto, se pasan al tipo de dato correspondiente\n",
    "string_type = ['Nombre', 'Apellidos']\n",
    "data['Nombre'] = data['Nombre'].astype('string')\n",
    "data.dtypes"
   ]
  },
  {
   "cell_type": "code",
   "execution_count": 59,
   "metadata": {},
   "outputs": [],
   "source": [
    "\n",
    "#*Eliminación de columnas prescindibles\n",
    "data.drop(['Hora de inicio', 'Hora de finalización', 'Nombre', 'Doctor', 'Pregunta'], axis=1, inplace=True)\n",
    "#*Renombramiento de columna\n",
    "data.rename(columns={'Nombre2':'Nombre', 'Palabras clave sobre las áreas de experiencia y líneas de investigación':'Areas de experiencia'}, inplace=True)"
   ]
  },
  {
   "cell_type": "code",
   "execution_count": null,
   "metadata": {},
   "outputs": [],
   "source": []
  }
 ],
 "metadata": {
  "kernelspec": {
   "display_name": "Python 3",
   "language": "python",
   "name": "python3"
  },
  "language_info": {
   "codemirror_mode": {
    "name": "ipython",
    "version": 3
   },
   "file_extension": ".py",
   "mimetype": "text/x-python",
   "name": "python",
   "nbconvert_exporter": "python",
   "pygments_lexer": "ipython3",
   "version": "3.10.8"
  },
  "orig_nbformat": 4,
  "vscode": {
   "interpreter": {
    "hash": "4e02a394f46a34fb7f702684e07532c65eb0e3cf841f78604b97865c14e9683e"
   }
  }
 },
 "nbformat": 4,
 "nbformat_minor": 2
}
